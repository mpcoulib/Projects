{
 "cells": [
  {
   "cell_type": "code",
   "execution_count": 4,
   "metadata": {},
   "outputs": [],
   "source": [
    "import pandas as pd"
   ]
  },
  {
   "cell_type": "code",
   "execution_count": 8,
   "metadata": {},
   "outputs": [
    {
     "name": "stdout",
     "output_type": "stream",
     "text": [
      "Requirement already satisfied: beautifulsoup4 in /opt/anaconda3/lib/python3.12/site-packages (4.12.3)\n",
      "Requirement already satisfied: soupsieve>1.2 in /opt/anaconda3/lib/python3.12/site-packages (from beautifulsoup4) (2.5)\n",
      "Note: you may need to restart the kernel to use updated packages.\n"
     ]
    }
   ],
   "source": [
    "!pip install beautifulsoup4"
   ]
  },
  {
   "cell_type": "code",
   "execution_count": 4,
   "metadata": {},
   "outputs": [],
   "source": [
    "import requests\n",
    "from bs4 import BeautifulSoup as bs4"
   ]
  },
  {
   "cell_type": "code",
   "execution_count": 5,
   "metadata": {},
   "outputs": [
    {
     "name": "stdout",
     "output_type": "stream",
     "text": [
      "<!DOCTYPE html>\n",
      "<!--[if IE 8 ]><html class=\"ie\" xmlns=\"http://www.w3.org/1999/xhtml\" xml:lang=\"en-US\" lang=\"en-US\"> <![endif]-->\n",
      "<!--[if (gte IE 9)|!(IE)]><!-->\n",
      "<html lang=\"en-US\" xml:lang=\"en-US\" xmlns=\"http://www.w3.org/1999/xhtml\">\n",
      " <!--<![endif]-->\n",
      " <head>\n",
      "  <!-- Basic Page Needs -->\n",
      "  <meta charset=\"utf-8\"/>\n",
      "  <!--[if IE]><meta http-equiv='X-UA-Compatible' content='IE=edge,chrome=1'><![endif]-->\n",
      "  <title>\n",
      "   PPA Ghana\n",
      "  </title>\n",
      "  <meta content=\"width=device-width, initial-scale=1, maximum-scale=1\" name=\"viewport\"/>\n",
      "  <link href=\"https://tenders.ppa.gov.gh/css/bootstrap4.min.css\" rel=\"stylesheet\" type=\"text/css\"/>\n",
      "  <link href=\"https://tenders.ppa.gov.gh/stylesheets/style.css\" rel=\"stylesheet\" type=\"text/css\"/>\n",
      "  <link href=\"https://tenders.ppa.gov.gh/css/helpers.css\" rel=\"stylesheet\" type=\"text/css\">\n",
      "   <link href=\"https://tenders.ppa.gov.gh/css/front.css\" rel=\"stylesheet\" type=\"text/css\"/>\n",
      "   <link href=\"images/icon/favicon.png\" rel=\"shortcut icon\"/>\n",
      "   <!--[if lt IE 9]>\n",
      "       \n"
     ]
    }
   ],
   "source": [
    "req= requests.get(\"https://tenders.ppa.gov.gh/tenders\")\n",
    "req.raise_for_status()\n",
    "soup = bs4(req.text, 'html.parser')\n",
    "print(soup.prettify()[:1000])  # Print the first 1000 characters of the HTML for inspection"
   ]
  },
  {
   "cell_type": "code",
   "execution_count": null,
   "metadata": {},
   "outputs": [],
   "source": []
  }
 ],
 "metadata": {
  "kernelspec": {
   "display_name": "python3-anaconda",
   "language": "python",
   "name": "python3-anaconda"
  },
  "language_info": {
   "codemirror_mode": {
    "name": "ipython",
    "version": 3
   },
   "file_extension": ".py",
   "mimetype": "text/x-python",
   "name": "python",
   "nbconvert_exporter": "python",
   "pygments_lexer": "ipython3",
   "version": "3.12.7"
  }
 },
 "nbformat": 4,
 "nbformat_minor": 4
}
