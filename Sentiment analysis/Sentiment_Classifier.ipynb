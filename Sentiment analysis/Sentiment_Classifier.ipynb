{
  "nbformat": 4,
  "nbformat_minor": 0,
  "metadata": {
    "colab": {
      "provenance": [],
      "collapsed_sections": [
        "4CIxO7E5F5hC",
        "iQKOesVMF98e",
        "Z0K-IrUzGQiP",
        "ltu6BOyXGz83"
      ]
    },
    "kernelspec": {
      "name": "python3",
      "display_name": "Python 3"
    },
    "language_info": {
      "name": "python"
    },
    "accelerator": "GPU",
    "gpuClass": "standard"
  },
  "cells": [
    {
      "cell_type": "markdown",
      "source": [
        "# Preprocessign"
      ],
      "metadata": {
        "id": "Um_ux1bJR_Np"
      }
    },
    {
      "cell_type": "markdown",
      "source": [
        "## Set up"
      ],
      "metadata": {
        "id": "4CIxO7E5F5hC"
      }
    },
    {
      "cell_type": "code",
      "source": [
        "!pip install qalsadi"
      ],
      "metadata": {
        "id": "mJUGNmKJ3lOK"
      },
      "execution_count": null,
      "outputs": []
    },
    {
      "cell_type": "code",
      "source": [
        "from google.colab import drive\n",
        "drive.mount('/content/drive')"
      ],
      "metadata": {
        "id": "U7v8-XGSj_t-",
        "colab": {
          "base_uri": "https://localhost:8080/",
          "height": 328
        },
        "outputId": "5afd3ee0-b0d5-4968-fa0c-7f706b7799e8"
      },
      "execution_count": null,
      "outputs": [
        {
          "output_type": "error",
          "ename": "MessageError",
          "evalue": "ignored",
          "traceback": [
            "\u001b[0;31m---------------------------------------------------------------------------\u001b[0m",
            "\u001b[0;31mMessageError\u001b[0m                              Traceback (most recent call last)",
            "\u001b[0;32m<ipython-input-3-d5df0069828e>\u001b[0m in \u001b[0;36m<module>\u001b[0;34m\u001b[0m\n\u001b[1;32m      1\u001b[0m \u001b[0;32mfrom\u001b[0m \u001b[0mgoogle\u001b[0m\u001b[0;34m.\u001b[0m\u001b[0mcolab\u001b[0m \u001b[0;32mimport\u001b[0m \u001b[0mdrive\u001b[0m\u001b[0;34m\u001b[0m\u001b[0;34m\u001b[0m\u001b[0m\n\u001b[0;32m----> 2\u001b[0;31m \u001b[0mdrive\u001b[0m\u001b[0;34m.\u001b[0m\u001b[0mmount\u001b[0m\u001b[0;34m(\u001b[0m\u001b[0;34m'/content/drive'\u001b[0m\u001b[0;34m)\u001b[0m\u001b[0;34m\u001b[0m\u001b[0;34m\u001b[0m\u001b[0m\n\u001b[0m",
            "\u001b[0;32m/usr/local/lib/python3.7/dist-packages/google/colab/drive.py\u001b[0m in \u001b[0;36mmount\u001b[0;34m(mountpoint, force_remount, timeout_ms, readonly)\u001b[0m\n\u001b[1;32m    104\u001b[0m       \u001b[0mtimeout_ms\u001b[0m\u001b[0;34m=\u001b[0m\u001b[0mtimeout_ms\u001b[0m\u001b[0;34m,\u001b[0m\u001b[0;34m\u001b[0m\u001b[0;34m\u001b[0m\u001b[0m\n\u001b[1;32m    105\u001b[0m       \u001b[0mephemeral\u001b[0m\u001b[0;34m=\u001b[0m\u001b[0;32mTrue\u001b[0m\u001b[0;34m,\u001b[0m\u001b[0;34m\u001b[0m\u001b[0;34m\u001b[0m\u001b[0m\n\u001b[0;32m--> 106\u001b[0;31m       readonly=readonly)\n\u001b[0m\u001b[1;32m    107\u001b[0m \u001b[0;34m\u001b[0m\u001b[0m\n\u001b[1;32m    108\u001b[0m \u001b[0;34m\u001b[0m\u001b[0m\n",
            "\u001b[0;32m/usr/local/lib/python3.7/dist-packages/google/colab/drive.py\u001b[0m in \u001b[0;36m_mount\u001b[0;34m(mountpoint, force_remount, timeout_ms, ephemeral, readonly)\u001b[0m\n\u001b[1;32m    123\u001b[0m   \u001b[0;32mif\u001b[0m \u001b[0mephemeral\u001b[0m\u001b[0;34m:\u001b[0m\u001b[0;34m\u001b[0m\u001b[0;34m\u001b[0m\u001b[0m\n\u001b[1;32m    124\u001b[0m     _message.blocking_request(\n\u001b[0;32m--> 125\u001b[0;31m         'request_auth', request={'authType': 'dfs_ephemeral'}, timeout_sec=None)\n\u001b[0m\u001b[1;32m    126\u001b[0m \u001b[0;34m\u001b[0m\u001b[0m\n\u001b[1;32m    127\u001b[0m   \u001b[0mmountpoint\u001b[0m \u001b[0;34m=\u001b[0m \u001b[0m_os\u001b[0m\u001b[0;34m.\u001b[0m\u001b[0mpath\u001b[0m\u001b[0;34m.\u001b[0m\u001b[0mexpanduser\u001b[0m\u001b[0;34m(\u001b[0m\u001b[0mmountpoint\u001b[0m\u001b[0;34m)\u001b[0m\u001b[0;34m\u001b[0m\u001b[0;34m\u001b[0m\u001b[0m\n",
            "\u001b[0;32m/usr/local/lib/python3.7/dist-packages/google/colab/_message.py\u001b[0m in \u001b[0;36mblocking_request\u001b[0;34m(request_type, request, timeout_sec, parent)\u001b[0m\n\u001b[1;32m    169\u001b[0m   request_id = send_request(\n\u001b[1;32m    170\u001b[0m       request_type, request, parent=parent, expect_reply=True)\n\u001b[0;32m--> 171\u001b[0;31m   \u001b[0;32mreturn\u001b[0m \u001b[0mread_reply_from_input\u001b[0m\u001b[0;34m(\u001b[0m\u001b[0mrequest_id\u001b[0m\u001b[0;34m,\u001b[0m \u001b[0mtimeout_sec\u001b[0m\u001b[0;34m)\u001b[0m\u001b[0;34m\u001b[0m\u001b[0;34m\u001b[0m\u001b[0m\n\u001b[0m",
            "\u001b[0;32m/usr/local/lib/python3.7/dist-packages/google/colab/_message.py\u001b[0m in \u001b[0;36mread_reply_from_input\u001b[0;34m(message_id, timeout_sec)\u001b[0m\n\u001b[1;32m    100\u001b[0m         reply.get('colab_msg_id') == message_id):\n\u001b[1;32m    101\u001b[0m       \u001b[0;32mif\u001b[0m \u001b[0;34m'error'\u001b[0m \u001b[0;32min\u001b[0m \u001b[0mreply\u001b[0m\u001b[0;34m:\u001b[0m\u001b[0;34m\u001b[0m\u001b[0;34m\u001b[0m\u001b[0m\n\u001b[0;32m--> 102\u001b[0;31m         \u001b[0;32mraise\u001b[0m \u001b[0mMessageError\u001b[0m\u001b[0;34m(\u001b[0m\u001b[0mreply\u001b[0m\u001b[0;34m[\u001b[0m\u001b[0;34m'error'\u001b[0m\u001b[0;34m]\u001b[0m\u001b[0;34m)\u001b[0m\u001b[0;34m\u001b[0m\u001b[0;34m\u001b[0m\u001b[0m\n\u001b[0m\u001b[1;32m    103\u001b[0m       \u001b[0;32mreturn\u001b[0m \u001b[0mreply\u001b[0m\u001b[0;34m.\u001b[0m\u001b[0mget\u001b[0m\u001b[0;34m(\u001b[0m\u001b[0;34m'data'\u001b[0m\u001b[0;34m,\u001b[0m \u001b[0;32mNone\u001b[0m\u001b[0;34m)\u001b[0m\u001b[0;34m\u001b[0m\u001b[0;34m\u001b[0m\u001b[0m\n\u001b[1;32m    104\u001b[0m \u001b[0;34m\u001b[0m\u001b[0m\n",
            "\u001b[0;31mMessageError\u001b[0m: Error: credential propagation was unsuccessful"
          ]
        }
      ]
    },
    {
      "cell_type": "code",
      "source": [
        "import pandas as pd\n",
        "import re\n",
        "import qalsadi.lemmatizer"
      ],
      "metadata": {
        "id": "dO_JReCYkbHn"
      },
      "execution_count": null,
      "outputs": []
    },
    {
      "cell_type": "code",
      "source": [
        "project_dir = \"/content/drive/MyDrive/afrisent-semeval-2023\"\n",
        "lang_code = \"dz\""
      ],
      "metadata": {
        "id": "XsZgiHrzGfa3"
      },
      "execution_count": null,
      "outputs": []
    },
    {
      "cell_type": "markdown",
      "source": [
        "## Creating the non-processed dataset"
      ],
      "metadata": {
        "id": "iQKOesVMF98e"
      }
    },
    {
      "cell_type": "code",
      "execution_count": null,
      "metadata": {
        "id": "EZO7k7z8DJGB",
        "colab": {
          "base_uri": "https://localhost:8080/",
          "height": 217
        },
        "outputId": "8e28f1b5-0114-430d-d411-f5f8592a5731"
      },
      "outputs": [
        {
          "output_type": "error",
          "ename": "NameError",
          "evalue": "ignored",
          "traceback": [
            "\u001b[0;31m---------------------------------------------------------------------------\u001b[0m",
            "\u001b[0;31mNameError\u001b[0m                                 Traceback (most recent call last)",
            "\u001b[0;32m<ipython-input-1-dc2d64c932c0>\u001b[0m in \u001b[0;36m<module>\u001b[0;34m\u001b[0m\n\u001b[1;32m      1\u001b[0m \u001b[0;31m## loading the data\u001b[0m\u001b[0;34m\u001b[0m\u001b[0;34m\u001b[0m\u001b[0;34m\u001b[0m\u001b[0m\n\u001b[1;32m      2\u001b[0m \u001b[0;32mimport\u001b[0m \u001b[0mpandas\u001b[0m \u001b[0;32mas\u001b[0m \u001b[0mpd\u001b[0m\u001b[0;34m\u001b[0m\u001b[0;34m\u001b[0m\u001b[0m\n\u001b[0;32m----> 3\u001b[0;31m \u001b[0mdf\u001b[0m \u001b[0;34m=\u001b[0m \u001b[0mpd\u001b[0m\u001b[0;34m.\u001b[0m\u001b[0mread_csv\u001b[0m\u001b[0;34m(\u001b[0m\u001b[0;34mf\"{project_dir}/SubtaskA/train/{lang_code}_train.tsv\"\u001b[0m\u001b[0;34m,\u001b[0m\u001b[0msep\u001b[0m\u001b[0;34m=\u001b[0m\u001b[0;34m\"\\t\"\u001b[0m\u001b[0;34m)\u001b[0m\u001b[0;34m\u001b[0m\u001b[0;34m\u001b[0m\u001b[0m\n\u001b[0m\u001b[1;32m      4\u001b[0m \u001b[0mdf\u001b[0m \u001b[0;34m=\u001b[0m \u001b[0mdf\u001b[0m\u001b[0;34m.\u001b[0m\u001b[0mdrop\u001b[0m\u001b[0;34m(\u001b[0m\u001b[0;34m\"ID\"\u001b[0m\u001b[0;34m,\u001b[0m\u001b[0maxis\u001b[0m\u001b[0;34m=\u001b[0m\u001b[0;36m1\u001b[0m\u001b[0;34m)\u001b[0m\u001b[0;34m\u001b[0m\u001b[0;34m\u001b[0m\u001b[0m\n",
            "\u001b[0;31mNameError\u001b[0m: name 'project_dir' is not defined"
          ]
        }
      ],
      "source": [
        "## loading the data\n",
        "import pandas as pd\n",
        "df = pd.read_csv(f\"{project_dir}/SubtaskA/train/{lang_code}_train.tsv\",sep=\"\\t\")\n",
        "df = df.drop(\"ID\",axis=1)"
      ]
    },
    {
      "cell_type": "code",
      "source": [
        "def f(x):\n",
        "  if x == \"positive\":\n",
        "    return 1\n",
        "  elif x == \"negative\":\n",
        "    return -1\n",
        "  else:\n",
        "    return 0\n",
        "df.label = df.label.apply(lambda x:f(x))"
      ],
      "metadata": {
        "id": "7zvGZ3YrksrF"
      },
      "execution_count": null,
      "outputs": []
    },
    {
      "cell_type": "code",
      "source": [
        "df.to_csv(f\"{project_dir}/SubtaskA/train/{lang_code}_original.csv\", index=False)"
      ],
      "metadata": {
        "id": "BbWLzi_QEj7O"
      },
      "execution_count": null,
      "outputs": []
    },
    {
      "cell_type": "markdown",
      "source": [
        "## creating multiple varieties of preprocessed datasets"
      ],
      "metadata": {
        "id": "Z0K-IrUzGQiP"
      }
    },
    {
      "cell_type": "code",
      "source": [
        "# stopwords\n",
        "! wget https://raw.githubusercontent.com/mohataher/arabic-stop-words/master/list.txt"
      ],
      "metadata": {
        "id": "gbxEcRpKsZXZ"
      },
      "execution_count": null,
      "outputs": []
    },
    {
      "cell_type": "code",
      "source": [
        "with open(\"list.txt\", \"r\") as f:\n",
        "  stopwords = [s.strip() for s in f.readlines()]\n",
        "lemmer = qalsadi.lemmatizer.Lemmatizer()\n",
        "punc = \"\"\"،.:!?؟!:.,''!\"#$%&'()*+, -./:;<=>?@[\\]^_`{|}~\"\"\""
      ],
      "metadata": {
        "id": "dYdTUXmvz30z"
      },
      "execution_count": null,
      "outputs": []
    },
    {
      "cell_type": "code",
      "source": [
        "def preprocess(text):\n",
        "    # removing @user amd RT\n",
        "    text = text.replace(\"@user\",\"\").replace(\"RT\",\"\")\n",
        "    # tokenization\n",
        "    ara = re.findall(r'[\\u0600-\\u06FF]+', text)\n",
        "    c = 0\n",
        "    text = text.split()\n",
        "    for i in range(len(text)):\n",
        "      if len(re.findall(r'[\\u0600-\\u06FF]+', text[i])) > 0:\n",
        "          text[i] = text[i].replace(ara[c], \" \" + ara[c] + \" \" )\n",
        "          c  += 1\n",
        "    text = \" \".join(text).split()\n",
        "    # # lemmatization\n",
        "    # text = [lemmer.lemmatize(w) for w in text] \n",
        "    # removing stopwords\n",
        "    text = [w for w in text if not w in stopwords]\n",
        "    # removing punctuation\n",
        "    text = [w for w in text if not any(substring in w for substring in punc)]\n",
        "    # removing numbers\n",
        "    text = [w for w in text if not w.isdigit()]\n",
        "    # normalizing emojis\n",
        "    for i in range(len(text)):\n",
        "        if len(re.findall(r'[\\u0600-\\u06FF]+', text[i])) == 0 and not text[i].isalnum():\n",
        "            types = list(set(text[i]))\n",
        "            del text[i]\n",
        "            for j in range(len(types)):\n",
        "              text.insert(i+j,types[j])\n",
        "    # normalizing emojis second iteration\n",
        "    for i in range(len(text)):\n",
        "        if len(re.findall(r'[\\u0600-\\u06FF]+', text[i])) == 0 and not text[i].isalnum():\n",
        "            types = list(set(text[i]))\n",
        "            del text[i]\n",
        "            for j in range(len(types)):\n",
        "              text.insert(i+j,types[j])\n",
        "    # removing empty strings\n",
        "    text = [w for w in text if bool(w.strip())]\n",
        "    return \" \".join(text)"
      ],
      "metadata": {
        "id": "uqSAlu1AlQYq"
      },
      "execution_count": null,
      "outputs": []
    },
    {
      "cell_type": "code",
      "source": [
        "pro_df = pd.read_csv(f\"{project_dir}/SubtaskA/train/{lang_code}_original.csv\")\n",
        "pro_df.tweet = pro_df.tweet.apply(lambda x:preprocess(x))"
      ],
      "metadata": {
        "id": "IruUanpJ-TNK"
      },
      "execution_count": null,
      "outputs": []
    },
    {
      "cell_type": "code",
      "source": [
        "pro_df.to_csv(f\"{project_dir}/SubtaskA/train/{lang_code}_pro.csv\", index=False)"
      ],
      "metadata": {
        "id": "CHuwBXNcFaCc"
      },
      "execution_count": null,
      "outputs": []
    },
    {
      "cell_type": "code",
      "source": [
        "df = pd.read_csv(f\"{project_dir}/SubtaskA/train/{lang_code}_pro.csv\")\n",
        "df = df.dropna()\n",
        "df = df.sample(frac=1).reset_index(drop=True)\n",
        "df_test = pd.concat([df[df[\"label\"] == -1][:60],df[df[\"label\"] == 1][:60],df[df[\"label\"] == 0][:60]],ignore_index = False)\n",
        "df_train = df.drop(df_test.index)\n",
        "df_train.to_csv(f\"{project_dir}/SubtaskA/train/{lang_code}_pro_train.csv\", index=False)\n",
        "df_test.to_csv(f\"{project_dir}/SubtaskA/train/{lang_code}_pro_test.csv\", index=False)"
      ],
      "metadata": {
        "id": "85muyQPAu8tH"
      },
      "execution_count": null,
      "outputs": []
    },
    {
      "cell_type": "markdown",
      "source": [
        "# LSTM"
      ],
      "metadata": {
        "id": "aEIirAOrvzhI"
      }
    },
    {
      "cell_type": "code",
      "source": [
        "!pip install tensorflow\n",
        "!pip install keras"
      ],
      "metadata": {
        "id": "7ugd_erqxqn6"
      },
      "execution_count": null,
      "outputs": []
    },
    {
      "cell_type": "code",
      "source": [
        "from keras_preprocessing.sequence import pad_sequences\n",
        "from keras.models import Sequential\n",
        "from keras.layers import Dense, Softmax, Dropout, Activation\n",
        "from keras.layers import SimpleRNN, LSTM, Embedding, Bidirectional\n",
        "from tensorflow.keras.utils import to_categorical\n",
        "from tensorflow.keras.preprocessing.text import Tokenizer\n",
        "from keras.callbacks import ModelCheckpoint\n",
        "import warnings\n",
        "from keras.initializers import Constant\n",
        "import tensorflow\n",
        "warnings.filterwarnings('ignore')\n",
        "import pandas as pd\n",
        "import numpy as np\n",
        "from sklearn.model_selection import train_test_split\n",
        "project_dir = \"/content/drive/MyDrive/afrisent-semeval-2023\"\n",
        "lang_code = \"dz\"\n",
        "# aravec\n",
        "# !wget https://bakrianoo.ewr1.vultrobjects.com/aravec/full_grams_sg_300_twitter.zip -P \"/content/drive/MyDrive/afrisent-semeval-2023/\"\n",
        "# !unzip \"/content/drive/MyDrive/afrisent-semeval-2023/full_grams_sg_300_twitter.zip\" -d \"/content/drive/MyDrive/afrisent-semeval-2023/\"\n",
        "import gensim\n",
        "t_model = gensim.models.Word2Vec.load('/content/drive/MyDrive/afrisent-semeval-2023/full_grams_sg_300_twitter.mdl')"
      ],
      "metadata": {
        "id": "4FAydfC4wFAZ"
      },
      "execution_count": null,
      "outputs": []
    },
    {
      "cell_type": "code",
      "source": [
        "from google.colab import drive\n",
        "drive.mount('/content/drive')"
      ],
      "metadata": {
        "id": "10AaTv7BwIN7",
        "colab": {
          "base_uri": "https://localhost:8080/"
        },
        "outputId": "fb4e8900-59ca-4667-f510-c40c8cfa5519"
      },
      "execution_count": null,
      "outputs": [
        {
          "output_type": "stream",
          "name": "stdout",
          "text": [
            "Mounted at /content/drive\n"
          ]
        }
      ]
    },
    {
      "cell_type": "code",
      "source": [
        "import pandas as pd\n",
        "project_dir = \"/content/drive/MyDrive/afrisent-semeval-2023\"\n",
        "lang_code = \"dz\"\n",
        "df = pd.read_csv(f\"{project_dir}/SubtaskA/train/{lang_code}_pro.csv\")"
      ],
      "metadata": {
        "id": "KSqXyPZCHYVM"
      },
      "execution_count": null,
      "outputs": []
    },
    {
      "cell_type": "code",
      "source": [
        "df_train = pd.read_csv(f\"{project_dir}/SubtaskA/train/{lang_code}_pro_train.csv\")\n",
        "df_test = pd.read_csv(f\"{project_dir}/SubtaskA/train/{lang_code}_pro_test.csv\")\n",
        "\n",
        "x_train = df_train[\"tweet\"]\n",
        "y_train = df_train[\"label\"]\n",
        "x_test = df_test[\"tweet\"]\n",
        "y_test = df_test[\"label\"]\n",
        "\n",
        "encoder = Tokenizer(lower=False) \n",
        "encoder.fit_on_texts(x_train) \n",
        "x_train = encoder.texts_to_sequences(x_train) \n",
        "x_test = encoder.texts_to_sequences(x_test)\n",
        "total_words = len(encoder.word_index) + 1\n",
        "\n",
        "def get_max_length():\n",
        "    review_length = []\n",
        "    for review in x_train:\n",
        "        review_length.append(len(review))\n",
        "    return int(np.ceil(np.mean(review_length)))\n",
        "MAX_SEQUENCE_LENGTH=get_max_length()\n",
        "\n",
        "from keras_preprocessing.sequence import pad_sequences\n",
        "x_train = pad_sequences(x_train, maxlen=MAX_SEQUENCE_LENGTH, value=0, padding='post')\n",
        "x_test = pad_sequences(x_test, maxlen=MAX_SEQUENCE_LENGTH, value=0, padding='post')\n",
        "\n",
        "from sklearn.preprocessing import LabelEncoder\n",
        "le = LabelEncoder()\n",
        "y_train=le.fit_transform(y_train)\n",
        "y_test=le.transform(y_test)\n",
        "\n",
        "# aravec\n",
        "word_index = encoder.word_index\n",
        "embedding_size=300\n",
        "embedding_matrix = np.zeros((total_words, embedding_size))\n",
        "for word, i in word_index.items():\n",
        "    if word in t_model.wv:\n",
        "        embedding_vector = t_model[word]\n",
        "        embedding_matrix[i] = embedding_vector"
      ],
      "metadata": {
        "id": "ouICxMVtv7nH"
      },
      "execution_count": null,
      "outputs": []
    },
    {
      "cell_type": "code",
      "source": [
        "### Dziri bert embeddings\n",
        "!pip install transformers\n",
        "from transformers import pipeline\n",
        "model = pipeline('feature-extraction', model= 'alger-ia/dziribert')\n",
        "word_index = encoder.word_index\n",
        "embedding_size=768\n",
        "embedding_matrix = np.zeros((total_words, embedding_size))\n",
        "for word, i in word_index.items():\n",
        "        embedding_vector = model(word)[0][1]\n",
        "        embedding_matrix[i] = embedding_vector"
      ],
      "metadata": {
        "id": "wBjk2ga_DS6d"
      },
      "execution_count": null,
      "outputs": []
    },
    {
      "cell_type": "code",
      "source": [
        "model=Sequential()\n",
        "model.add(Embedding(total_words,embedding_size,embeddings_initializer=Constant(embedding_matrix),input_length=MAX_SEQUENCE_LENGTH,trainable=True))\n",
        "model.add(LSTM(68, dropout = 0.5))\n",
        "model.add(Dense(3,activation='softmax'))  \n",
        "model.compile(loss='categorical_crossentropy', optimizer='adam', metrics=['accuracy'])\n",
        "checkpoint = ModelCheckpoint(f\"{project_dir}/best_model.hdf5\", monitor='val_accuracy', verbose=1,save_best_only=True, mode='auto',save_weights_only=False)\n",
        "callback = tensorflow.keras.callbacks.EarlyStopping(monitor='loss', patience=4)\n",
        "history= model.fit(x_train, to_categorical(y_train, num_classes=3), epochs=100,callbacks=[checkpoint,callback],validation_data=(x_test, to_categorical(y_test)))"
      ],
      "metadata": {
        "id": "TtUACiHq1KJ_"
      },
      "execution_count": null,
      "outputs": []
    },
    {
      "cell_type": "markdown",
      "source": [
        "# new Archtitecture"
      ],
      "metadata": {
        "id": "Nmmi6dYbB7th"
      }
    },
    {
      "cell_type": "code",
      "source": [
        "df_train = pd.read_csv(f\"{project_dir}/SubtaskA/train/{lang_code}_pro_train.csv\")\n",
        "df_test = pd.read_csv(f\"{project_dir}/SubtaskA/train/{lang_code}_pro_test.csv\")\n",
        "\n",
        "# df_train[\"label\"] = df_train[\"label\"].apply(lambda x: 0 if(x==-1 or x==0) else 1)\n",
        "# df_test[\"label\"] = df_test[\"label\"].apply(lambda x: 0 if(x==-1 or x==0) else 1)\n",
        "\n",
        "x_train = df_train[\"tweet\"]\n",
        "y_train = df_train[\"label\"]\n",
        "x_test = df_test[\"tweet\"]\n",
        "y_test = df_test[\"label\"]\n",
        "\n",
        "encoder = Tokenizer(lower=False) \n",
        "encoder.fit_on_texts(x_train) \n",
        "x_train = encoder.texts_to_sequences(x_train) \n",
        "x_test = encoder.texts_to_sequences(x_test)\n",
        "total_words = len(encoder.word_index) + 1\n",
        "\n",
        "def get_max_length():\n",
        "    review_length = []\n",
        "    for review in x_train:\n",
        "        review_length.append(len(review))\n",
        "    return int(np.ceil(np.mean(review_length)))\n",
        "MAX_SEQUENCE_LENGTH=get_max_length()\n",
        "\n",
        "from keras_preprocessing.sequence import pad_sequences\n",
        "x_train = pad_sequences(x_train, maxlen=MAX_SEQUENCE_LENGTH, value=0, padding='post')\n",
        "x_test = pad_sequences(x_test, maxlen=MAX_SEQUENCE_LENGTH, value=0, padding='post')\n",
        "\n",
        "from sklearn.preprocessing import LabelEncoder\n",
        "le = LabelEncoder()\n",
        "y_train=le.fit_transform(y_train)\n",
        "y_test=le.transform(y_test)\n",
        "\n",
        "# aravec\n",
        "word_index = encoder.word_index\n",
        "embedding_size=300\n",
        "embedding_matrix = np.zeros((total_words, embedding_size))\n",
        "for word, i in word_index.items():\n",
        "    if word in t_model.wv:\n",
        "        embedding_vector = t_model[word]\n",
        "        embedding_matrix[i] = embedding_vector"
      ],
      "metadata": {
        "id": "2kRAaY1m3h2s"
      },
      "execution_count": null,
      "outputs": []
    },
    {
      "cell_type": "code",
      "source": [
        "## Negative identifier\n",
        "from keras.initializers import Constant\n",
        "model=Sequential()\n",
        "model.add(Embedding(total_words,300,embeddings_initializer=Constant(embedding_matrix),input_length=MAX_SEQUENCE_LENGTH,trainable=True))\n",
        "model.add(LSTM(8))\n",
        "# model.add(Dense(256, activation = \"sigmoid\"))\n",
        "model.add(Dense(1,activation='sigmoid'))  \n",
        "model.compile(loss='binary_crossentropy', optimizer='adam', metrics=['accuracy'])\n",
        "checkpoint = ModelCheckpoint(f\"{project_dir}/best_pos_model.hdf5\", monitor='val_accuracy', verbose=1,save_best_only=True, mode='auto',save_weights_only=False)\n",
        "callback = tensorflow.keras.callbacks.EarlyStopping(monitor='loss', patience=3)\n",
        "history= model.fit(x_train, y_train, epochs=100,callbacks=[checkpoint,callback],validation_data=(x_test, y_test))\n"
      ],
      "metadata": {
        "id": "tJReVoS63FhL"
      },
      "execution_count": null,
      "outputs": []
    },
    {
      "cell_type": "code",
      "source": [
        "from keras.models import load_model\n",
        "project_dir = \"/content/drive/MyDrive/afrisent-semeval-2023\"\n",
        "neg_model = load_model(f\"{project_dir}/best_neg_model.hdf5\")\n",
        "pos_model = load_model(f\"{project_dir}/best_pos_model.hdf5\")"
      ],
      "metadata": {
        "id": "r4DzVJZU3XHA"
      },
      "execution_count": null,
      "outputs": []
    },
    {
      "cell_type": "code",
      "source": [
        "neg_train = neg_model.predict(x_train)\n",
        "pos_train = pos_model.predict(x_train)\n",
        "neg_test = neg_model.predict(x_test)\n",
        "pos_test = pos_model.predict(x_test)"
      ],
      "metadata": {
        "colab": {
          "base_uri": "https://localhost:8080/"
        },
        "id": "4MCCOlsUa2Lh",
        "outputId": "30100cc2-09af-4d20-de8c-8ac3817d079e"
      },
      "execution_count": null,
      "outputs": [
        {
          "output_type": "stream",
          "name": "stdout",
          "text": [
            "46/46 [==============================] - 0s 2ms/step\n",
            "46/46 [==============================] - 0s 2ms/step\n",
            "6/6 [==============================] - 0s 3ms/step\n",
            "6/6 [==============================] - 0s 3ms/step\n"
          ]
        }
      ]
    },
    {
      "cell_type": "code",
      "source": [
        "import tensorflow\n",
        "model=Sequential()\n",
        "model.add(Dense(500, activation='relu'))\n",
        "model.add(Dense(100, activation='relu'))\n",
        "model.add(Dense(50, activation='relu'))\n",
        "model.add(Dense(3,activation='softmax'))  \n",
        "model.compile(loss='categorical_crossentropy', optimizer='adam', metrics=['accuracy'])\n",
        "checkpoint = ModelCheckpoint(f\"{project_dir}/best_arch_model.hdf5\", monitor='val_accuracy', verbose=1,save_best_only=True, mode='auto',save_weights_only=False)\n",
        "callback = tensorflow.keras.callbacks.EarlyStopping(monitor='loss', patience=3)\n",
        "history= model.fit(np.c_[neg_train,pos_train], to_categorical(y_train, num_classes=3), epochs=100,callbacks=[checkpoint],validation_data=(np.c_[neg_test,pos_test], to_categorical(y_test)))"
      ],
      "metadata": {
        "id": "uKEM5DdPdelO"
      },
      "execution_count": null,
      "outputs": []
    },
    {
      "cell_type": "code",
      "source": [
        "import pandas as pd\n",
        "project_dir = \"/content/drive/MyDrive/afrisent-semeval-2023\"\n",
        "lang_code = \"dz\"\n",
        "df = pd.read_csv(f\"{project_dir}/SubtaskA/train/{lang_code}_pro_train.csv\")\n",
        "df"
      ],
      "metadata": {
        "colab": {
          "base_uri": "https://localhost:8080/",
          "height": 424
        },
        "id": "WDisXJSyFZ_F",
        "outputId": "c9c62a66-0e15-4781-c5ab-b625c5fb7159"
      },
      "execution_count": null,
      "outputs": [
        {
          "output_type": "execute_result",
          "data": {
            "text/plain": [
              "                                                  tweet  label\n",
              "0                عنديش مزية كشعب نستحقوش النظافة النظام     -1\n",
              "1     زعما نتا مول العقل أسي الغزواني هذاك راه حساب ...     -1\n",
              "2     يعمري غاضتني بصح لبنات بلا استثناء وااااو براف...     -1\n",
              "3                    خدمات فاشلة تقول عاملين علينا مزية     -1\n",
              "4     اه علابالي الصحراء تقدر ترجعها جنة بصح المشكل ...     -1\n",
              "...                                                 ...    ...\n",
              "1465                        آش داني وعلاش مشيت هههههههه      0\n",
              "1466                         اخطونا بك بحكومتك بمسؤوليك     -1\n",
              "1467  العمرة ساعتين والحج تروح الصباح ترجع العشية ال...      1\n",
              "1468                                 يا اخي كنبغيك بزاف      1\n",
              "1469  التنظيم زعما غادي فمستوى عالي دورة وهران الالع...      0\n",
              "\n",
              "[1470 rows x 2 columns]"
            ],
            "text/html": [
              "\n",
              "  <div id=\"df-52b75248-aeaf-4eee-8071-a338b9189df0\">\n",
              "    <div class=\"colab-df-container\">\n",
              "      <div>\n",
              "<style scoped>\n",
              "    .dataframe tbody tr th:only-of-type {\n",
              "        vertical-align: middle;\n",
              "    }\n",
              "\n",
              "    .dataframe tbody tr th {\n",
              "        vertical-align: top;\n",
              "    }\n",
              "\n",
              "    .dataframe thead th {\n",
              "        text-align: right;\n",
              "    }\n",
              "</style>\n",
              "<table border=\"1\" class=\"dataframe\">\n",
              "  <thead>\n",
              "    <tr style=\"text-align: right;\">\n",
              "      <th></th>\n",
              "      <th>tweet</th>\n",
              "      <th>label</th>\n",
              "    </tr>\n",
              "  </thead>\n",
              "  <tbody>\n",
              "    <tr>\n",
              "      <th>0</th>\n",
              "      <td>عنديش مزية كشعب نستحقوش النظافة النظام</td>\n",
              "      <td>-1</td>\n",
              "    </tr>\n",
              "    <tr>\n",
              "      <th>1</th>\n",
              "      <td>زعما نتا مول العقل أسي الغزواني هذاك راه حساب ...</td>\n",
              "      <td>-1</td>\n",
              "    </tr>\n",
              "    <tr>\n",
              "      <th>2</th>\n",
              "      <td>يعمري غاضتني بصح لبنات بلا استثناء وااااو براف...</td>\n",
              "      <td>-1</td>\n",
              "    </tr>\n",
              "    <tr>\n",
              "      <th>3</th>\n",
              "      <td>خدمات فاشلة تقول عاملين علينا مزية</td>\n",
              "      <td>-1</td>\n",
              "    </tr>\n",
              "    <tr>\n",
              "      <th>4</th>\n",
              "      <td>اه علابالي الصحراء تقدر ترجعها جنة بصح المشكل ...</td>\n",
              "      <td>-1</td>\n",
              "    </tr>\n",
              "    <tr>\n",
              "      <th>...</th>\n",
              "      <td>...</td>\n",
              "      <td>...</td>\n",
              "    </tr>\n",
              "    <tr>\n",
              "      <th>1465</th>\n",
              "      <td>آش داني وعلاش مشيت هههههههه</td>\n",
              "      <td>0</td>\n",
              "    </tr>\n",
              "    <tr>\n",
              "      <th>1466</th>\n",
              "      <td>اخطونا بك بحكومتك بمسؤوليك</td>\n",
              "      <td>-1</td>\n",
              "    </tr>\n",
              "    <tr>\n",
              "      <th>1467</th>\n",
              "      <td>العمرة ساعتين والحج تروح الصباح ترجع العشية ال...</td>\n",
              "      <td>1</td>\n",
              "    </tr>\n",
              "    <tr>\n",
              "      <th>1468</th>\n",
              "      <td>يا اخي كنبغيك بزاف</td>\n",
              "      <td>1</td>\n",
              "    </tr>\n",
              "    <tr>\n",
              "      <th>1469</th>\n",
              "      <td>التنظيم زعما غادي فمستوى عالي دورة وهران الالع...</td>\n",
              "      <td>0</td>\n",
              "    </tr>\n",
              "  </tbody>\n",
              "</table>\n",
              "<p>1470 rows × 2 columns</p>\n",
              "</div>\n",
              "      <button class=\"colab-df-convert\" onclick=\"convertToInteractive('df-52b75248-aeaf-4eee-8071-a338b9189df0')\"\n",
              "              title=\"Convert this dataframe to an interactive table.\"\n",
              "              style=\"display:none;\">\n",
              "        \n",
              "  <svg xmlns=\"http://www.w3.org/2000/svg\" height=\"24px\"viewBox=\"0 0 24 24\"\n",
              "       width=\"24px\">\n",
              "    <path d=\"M0 0h24v24H0V0z\" fill=\"none\"/>\n",
              "    <path d=\"M18.56 5.44l.94 2.06.94-2.06 2.06-.94-2.06-.94-.94-2.06-.94 2.06-2.06.94zm-11 1L8.5 8.5l.94-2.06 2.06-.94-2.06-.94L8.5 2.5l-.94 2.06-2.06.94zm10 10l.94 2.06.94-2.06 2.06-.94-2.06-.94-.94-2.06-.94 2.06-2.06.94z\"/><path d=\"M17.41 7.96l-1.37-1.37c-.4-.4-.92-.59-1.43-.59-.52 0-1.04.2-1.43.59L10.3 9.45l-7.72 7.72c-.78.78-.78 2.05 0 2.83L4 21.41c.39.39.9.59 1.41.59.51 0 1.02-.2 1.41-.59l7.78-7.78 2.81-2.81c.8-.78.8-2.07 0-2.86zM5.41 20L4 18.59l7.72-7.72 1.47 1.35L5.41 20z\"/>\n",
              "  </svg>\n",
              "      </button>\n",
              "      \n",
              "  <style>\n",
              "    .colab-df-container {\n",
              "      display:flex;\n",
              "      flex-wrap:wrap;\n",
              "      gap: 12px;\n",
              "    }\n",
              "\n",
              "    .colab-df-convert {\n",
              "      background-color: #E8F0FE;\n",
              "      border: none;\n",
              "      border-radius: 50%;\n",
              "      cursor: pointer;\n",
              "      display: none;\n",
              "      fill: #1967D2;\n",
              "      height: 32px;\n",
              "      padding: 0 0 0 0;\n",
              "      width: 32px;\n",
              "    }\n",
              "\n",
              "    .colab-df-convert:hover {\n",
              "      background-color: #E2EBFA;\n",
              "      box-shadow: 0px 1px 2px rgba(60, 64, 67, 0.3), 0px 1px 3px 1px rgba(60, 64, 67, 0.15);\n",
              "      fill: #174EA6;\n",
              "    }\n",
              "\n",
              "    [theme=dark] .colab-df-convert {\n",
              "      background-color: #3B4455;\n",
              "      fill: #D2E3FC;\n",
              "    }\n",
              "\n",
              "    [theme=dark] .colab-df-convert:hover {\n",
              "      background-color: #434B5C;\n",
              "      box-shadow: 0px 1px 3px 1px rgba(0, 0, 0, 0.15);\n",
              "      filter: drop-shadow(0px 1px 2px rgba(0, 0, 0, 0.3));\n",
              "      fill: #FFFFFF;\n",
              "    }\n",
              "  </style>\n",
              "\n",
              "      <script>\n",
              "        const buttonEl =\n",
              "          document.querySelector('#df-52b75248-aeaf-4eee-8071-a338b9189df0 button.colab-df-convert');\n",
              "        buttonEl.style.display =\n",
              "          google.colab.kernel.accessAllowed ? 'block' : 'none';\n",
              "\n",
              "        async function convertToInteractive(key) {\n",
              "          const element = document.querySelector('#df-52b75248-aeaf-4eee-8071-a338b9189df0');\n",
              "          const dataTable =\n",
              "            await google.colab.kernel.invokeFunction('convertToInteractive',\n",
              "                                                     [key], {});\n",
              "          if (!dataTable) return;\n",
              "\n",
              "          const docLinkHtml = 'Like what you see? Visit the ' +\n",
              "            '<a target=\"_blank\" href=https://colab.research.google.com/notebooks/data_table.ipynb>data table notebook</a>'\n",
              "            + ' to learn more about interactive tables.';\n",
              "          element.innerHTML = '';\n",
              "          dataTable['output_type'] = 'display_data';\n",
              "          await google.colab.output.renderOutput(dataTable, element);\n",
              "          const docLink = document.createElement('div');\n",
              "          docLink.innerHTML = docLinkHtml;\n",
              "          element.appendChild(docLink);\n",
              "        }\n",
              "      </script>\n",
              "    </div>\n",
              "  </div>\n",
              "  "
            ]
          },
          "metadata": {},
          "execution_count": 25
        }
      ]
    }
  ]
}