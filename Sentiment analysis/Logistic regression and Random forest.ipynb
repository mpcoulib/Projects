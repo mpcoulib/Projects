{
 "cells": [
  {
   "cell_type": "code",
   "execution_count": 4,
   "id": "d1dfaf58",
   "metadata": {},
   "outputs": [],
   "source": [
    "!pip install sklearn"
   ]
  },
  {
   "cell_type": "code",
   "execution_count": 6,
   "id": "e86a0d35",
   "metadata": {},
   "outputs": [],
   "source": [
    "from sklearn.ensemble import RandomForestClassifier\n",
    "from sklearn.datasets import make_classification\n",
    "import pandas as pd"
   ]
  },
  {
   "cell_type": "code",
   "execution_count": 7,
   "id": "9c9dce88",
   "metadata": {},
   "outputs": [],
   "source": [
    "import numpy as np \n",
    "from sklearn.ensemble import RandomForestClassifier\n",
    "from sklearn.metrics import accuracy_score, confusion_matrix, r2_score\n",
    "from sklearn.model_selection import train_test_split\n",
    "import collections"
   ]
  },
  {
   "cell_type": "code",
   "execution_count": 8,
   "id": "43296f5c",
   "metadata": {},
   "outputs": [],
   "source": [
    "X=pd.read_csv('dz_pro_train.csv')\n",
    "X_t=pd.read_csv('dz_pro_test.csv')\n",
    "X_aug=pd.read_csv(\"dz_pro_train_aug.csv\")\n",
    "X_t_aug=pd.read_csv(\"dz_pro_test_aug.csv\")\n",
    "\n"
   ]
  },
  {
   "cell_type": "markdown",
   "id": "de065d2f",
   "metadata": {},
   "source": [
    "# Vectorizing"
   ]
  },
  {
   "cell_type": "code",
   "execution_count": 9,
   "id": "f367df00",
   "metadata": {},
   "outputs": [],
   "source": [
    "from sklearn.feature_extraction.text import TfidfVectorizer\n",
    "def do_nothing(x):\n",
    "    return x\n",
    "def create_features(train_data, test_data):\n",
    "    vect = TfidfVectorizer(analyzer='word',tokenizer=do_nothing, preprocessor=do_nothing, token_pattern=None)\n",
    "    \n",
    "    tweet_words = []\n",
    "    for tweet in train_data[\"tweet\"]:\n",
    "        tweet_words.append(tweet)\n",
    "    labels = []\n",
    "    for label in train_data[\"label\"]:\n",
    "        labels.append(label)\n",
    "    \n",
    "    train_labels = np.asarray(labels)\n",
    "    train_features = vect.fit_transform(train_data[\"tweet\"])\n",
    "    test_features = vect.transform(test_data[\"tweet\"])\n",
    "    \n",
    "    return train_features, train_labels, test_features"
   ]
  },
  {
   "cell_type": "code",
   "execution_count": 10,
   "id": "064eff2d",
   "metadata": {},
   "outputs": [
    {
     "data": {
      "text/plain": [
       "0                  عنديش مزية كشعب نستحقوش النظافة النظام\n",
       "1       زعما نتا مول العقل أسي الغزواني هذاك راه حساب ...\n",
       "2       يعمري غاضتني بصح لبنات بلا استثناء وااااو براف...\n",
       "3                      خدمات فاشلة تقول عاملين علينا مزية\n",
       "4       اه علابالي الصحراء تقدر ترجعها جنة بصح المشكل ...\n",
       "                              ...                        \n",
       "1465                          آش داني وعلاش مشيت هههههههه\n",
       "1466                           اخطونا بك بحكومتك بمسؤوليك\n",
       "1467    العمرة ساعتين والحج تروح الصباح ترجع العشية ال...\n",
       "1468                                   يا اخي كنبغيك بزاف\n",
       "1469    التنظيم زعما غادي فمستوى عالي دورة وهران الالع...\n",
       "Name: tweet, Length: 1470, dtype: object"
      ]
     },
     "execution_count": 10,
     "metadata": {},
     "output_type": "execute_result"
    }
   ],
   "source": [
    "X[\"tweet\"]"
   ]
  },
  {
   "cell_type": "code",
   "execution_count": 68,
   "id": "5be9fe9c",
   "metadata": {},
   "outputs": [],
   "source": [
    "train_features, train_labels, test_features = create_features(X, X_t)\n"
   ]
  },
  {
   "cell_type": "code",
   "execution_count": 69,
   "id": "9f1dea39",
   "metadata": {},
   "outputs": [
    {
     "data": {
      "text/plain": [
       "<180x233 sparse matrix of type '<class 'numpy.float64'>'\n",
       "\twith 2998 stored elements in Compressed Sparse Row format>"
      ]
     },
     "execution_count": 69,
     "metadata": {},
     "output_type": "execute_result"
    }
   ],
   "source": [
    "\n",
    "train_labels.shape\n",
    "test_features"
   ]
  },
  {
   "cell_type": "markdown",
   "id": "be8a870b",
   "metadata": {},
   "source": [
    "# Logistic regression"
   ]
  },
  {
   "cell_type": "code",
   "execution_count": 70,
   "id": "40a32a5f",
   "metadata": {},
   "outputs": [
    {
     "data": {
      "text/plain": [
       "LogisticRegression(multi_class='multinomial', random_state=0)"
      ]
     },
     "execution_count": 70,
     "metadata": {},
     "output_type": "execute_result"
    }
   ],
   "source": [
    "# Import the logistic regression model from sklearn \n",
    "from sklearn.linear_model import LogisticRegression\n",
    "\n",
    "# Define the model\n",
    "model = LogisticRegression(random_state=0, solver='lbfgs',\n",
    "                            multi_class='multinomial')\n",
    "# Train model\n",
    "model.fit(train_features, train_labels)"
   ]
  },
  {
   "cell_type": "code",
   "execution_count": 74,
   "id": "cf8e2c5c",
   "metadata": {},
   "outputs": [],
   "source": [
    "labels = []\n",
    "for label in X_t[\"label\"]:\n",
    "    labels.append(label)\n",
    "test_labels = np.asarray(labels)\n"
   ]
  },
  {
   "cell_type": "code",
   "execution_count": 75,
   "id": "f6c2736a",
   "metadata": {},
   "outputs": [
    {
     "data": {
      "text/plain": [
       "0.4777777777777778"
      ]
     },
     "execution_count": 75,
     "metadata": {},
     "output_type": "execute_result"
    }
   ],
   "source": [
    "model.score(test_features, test_labels)"
   ]
  },
  {
   "cell_type": "markdown",
   "id": "137cd202",
   "metadata": {},
   "source": [
    "# Random forest "
   ]
  },
  {
   "cell_type": "code",
   "execution_count": 73,
   "id": "0746c5fe",
   "metadata": {},
   "outputs": [
    {
     "name": "stdout",
     "output_type": "stream",
     "text": [
      "0.46111111111111114\n"
     ]
    }
   ],
   "source": [
    "# We train two models: random forest and logistic regression\n",
    "from sklearn.ensemble import RandomForestClassifier\n",
    "# Initialize a Random Forest classifier with 500 trees\n",
    "forest = RandomForestClassifier(n_estimators = 500, max_depth = None, min_samples_split=2, min_samples_leaf =1,\n",
    "                                bootstrap = True, random_state=0)\n",
    "# Train the model\n",
    "forest = forest.fit(train_features, train_labels)\n",
    "# Print score of model(using test dataset)\n",
    "print(forest.score(test_features, test_labels))"
   ]
  },
  {
   "cell_type": "markdown",
   "id": "c7fd0a05",
   "metadata": {},
   "source": [
    "# Augmented data"
   ]
  },
  {
   "cell_type": "code",
   "execution_count": null,
   "id": "10b00038",
   "metadata": {},
   "outputs": [],
   "source": []
  },
  {
   "cell_type": "code",
   "execution_count": 13,
   "id": "61782ed1",
   "metadata": {},
   "outputs": [],
   "source": [
    "train_features_aug, train_labels_aug, test_features_aug = create_features(X_aug, X_t_aug)"
   ]
  },
  {
   "cell_type": "markdown",
   "id": "84eeba4e",
   "metadata": {},
   "source": [
    "# Logistic regression"
   ]
  },
  {
   "cell_type": "code",
   "execution_count": 14,
   "id": "1608a852",
   "metadata": {},
   "outputs": [
    {
     "name": "stderr",
     "output_type": "stream",
     "text": [
      "C:\\ProgramData\\Anaconda3\\lib\\site-packages\\sklearn\\linear_model\\_logistic.py:814: ConvergenceWarning: lbfgs failed to converge (status=1):\n",
      "STOP: TOTAL NO. of ITERATIONS REACHED LIMIT.\n",
      "\n",
      "Increase the number of iterations (max_iter) or scale the data as shown in:\n",
      "    https://scikit-learn.org/stable/modules/preprocessing.html\n",
      "Please also refer to the documentation for alternative solver options:\n",
      "    https://scikit-learn.org/stable/modules/linear_model.html#logistic-regression\n",
      "  n_iter_i = _check_optimize_result(\n"
     ]
    }
   ],
   "source": [
    "# Import the logistic regression model from sklearn \n",
    "from sklearn.linear_model import LogisticRegression\n",
    "\n",
    "# Define the model\n",
    "model = LogisticRegression(random_state=0, solver='lbfgs',\n",
    "                            multi_class='multinomial')\n",
    "# Train model\n",
    "model.fit(train_features_aug, train_labels_aug)\n",
    "labels = []\n",
    "for label in X_t_aug[\"label\"]:\n",
    "    labels.append(label)\n",
    "test_labels_aug = np.asarray(labels)"
   ]
  },
  {
   "cell_type": "code",
   "execution_count": 15,
   "id": "19ef53f6",
   "metadata": {},
   "outputs": [
    {
     "data": {
      "text/plain": [
       "0.5696969696969697"
      ]
     },
     "execution_count": 15,
     "metadata": {},
     "output_type": "execute_result"
    }
   ],
   "source": [
    "model.score(test_features_aug, test_labels_aug)"
   ]
  },
  {
   "cell_type": "markdown",
   "id": "8f5947c2",
   "metadata": {},
   "source": [
    "# Random forest"
   ]
  },
  {
   "cell_type": "code",
   "execution_count": 17,
   "id": "ea2d533f",
   "metadata": {},
   "outputs": [],
   "source": [
    "# We train two models: random forest and logistic regression\n",
    "from sklearn.ensemble import RandomForestClassifier\n",
    "# Initialize a Random Forest classifier with 500 trees\n",
    "forest = RandomForestClassifier(n_estimators = 500, max_depth = None, min_samples_split=2, min_samples_leaf =1,\n",
    "                                bootstrap = True, random_state=0)\n",
    "# Train the model\n",
    "forest = forest.fit(train_features_aug, train_labels_aug)\n",
    "# Print score of model(using test dataset)\n"
   ]
  },
  {
   "cell_type": "code",
   "execution_count": 18,
   "id": "38848667",
   "metadata": {},
   "outputs": [
    {
     "name": "stdout",
     "output_type": "stream",
     "text": [
      "0.6181818181818182\n"
     ]
    }
   ],
   "source": [
    "print(forest.score(test_features_aug, test_labels_aug))"
   ]
  },
  {
   "cell_type": "code",
   "execution_count": null,
   "id": "4fa8e31e",
   "metadata": {},
   "outputs": [],
   "source": []
  }
 ],
 "metadata": {
  "kernelspec": {
   "display_name": "Python 3 (ipykernel)",
   "language": "python",
   "name": "python3"
  },
  "language_info": {
   "codemirror_mode": {
    "name": "ipython",
    "version": 3
   },
   "file_extension": ".py",
   "mimetype": "text/x-python",
   "name": "python",
   "nbconvert_exporter": "python",
   "pygments_lexer": "ipython3",
   "version": "3.9.12"
  },
  "vscode": {
   "interpreter": {
    "hash": "e94cd902a02ee710e949c79d513033665b2082f1b51ea5671e026d82fd6eb195"
   }
  }
 },
 "nbformat": 4,
 "nbformat_minor": 5
}
