{
  "cells": [
    {
      "cell_type": "markdown",
      "metadata": {
        "id": "I5xe0ANFsYQ0"
      },
      "source": [
        "#Set up"
      ]
    },
    {
      "cell_type": "code",
      "execution_count": null,
      "metadata": {
        "colab": {
          "base_uri": "https://localhost:8080/"
        },
        "id": "AajczImAqCXS",
        "outputId": "74d66a07-a2af-42b9-d050-8d9e59f28dd3"
      },
      "outputs": [
        {
          "output_type": "stream",
          "name": "stdout",
          "text": [
            "Looking in indexes: https://pypi.org/simple, https://us-python.pkg.dev/colab-wheels/public/simple/\n",
            "Collecting transformers\n",
            "  Downloading transformers-4.24.0-py3-none-any.whl (5.5 MB)\n",
            "\u001b[K     |████████████████████████████████| 5.5 MB 15.4 MB/s \n",
            "\u001b[?25hRequirement already satisfied: importlib-metadata in /usr/local/lib/python3.7/dist-packages (from transformers) (4.13.0)\n",
            "Requirement already satisfied: numpy>=1.17 in /usr/local/lib/python3.7/dist-packages (from transformers) (1.21.6)\n",
            "Requirement already satisfied: filelock in /usr/local/lib/python3.7/dist-packages (from transformers) (3.8.0)\n",
            "Requirement already satisfied: requests in /usr/local/lib/python3.7/dist-packages (from transformers) (2.23.0)\n",
            "Collecting tokenizers!=0.11.3,<0.14,>=0.11.1\n",
            "  Downloading tokenizers-0.13.1-cp37-cp37m-manylinux_2_17_x86_64.manylinux2014_x86_64.whl (7.6 MB)\n",
            "\u001b[K     |████████████████████████████████| 7.6 MB 15.4 MB/s \n",
            "\u001b[?25hRequirement already satisfied: tqdm>=4.27 in /usr/local/lib/python3.7/dist-packages (from transformers) (4.64.1)\n",
            "Requirement already satisfied: regex!=2019.12.17 in /usr/local/lib/python3.7/dist-packages (from transformers) (2022.6.2)\n",
            "Requirement already satisfied: pyyaml>=5.1 in /usr/local/lib/python3.7/dist-packages (from transformers) (6.0)\n",
            "Requirement already satisfied: packaging>=20.0 in /usr/local/lib/python3.7/dist-packages (from transformers) (21.3)\n",
            "Collecting huggingface-hub<1.0,>=0.10.0\n",
            "  Downloading huggingface_hub-0.10.1-py3-none-any.whl (163 kB)\n",
            "\u001b[K     |████████████████████████████████| 163 kB 38.8 MB/s \n",
            "\u001b[?25hRequirement already satisfied: typing-extensions>=3.7.4.3 in /usr/local/lib/python3.7/dist-packages (from huggingface-hub<1.0,>=0.10.0->transformers) (4.1.1)\n",
            "Requirement already satisfied: pyparsing!=3.0.5,>=2.0.2 in /usr/local/lib/python3.7/dist-packages (from packaging>=20.0->transformers) (3.0.9)\n",
            "Requirement already satisfied: zipp>=0.5 in /usr/local/lib/python3.7/dist-packages (from importlib-metadata->transformers) (3.10.0)\n",
            "Requirement already satisfied: certifi>=2017.4.17 in /usr/local/lib/python3.7/dist-packages (from requests->transformers) (2022.9.24)\n",
            "Requirement already satisfied: urllib3!=1.25.0,!=1.25.1,<1.26,>=1.21.1 in /usr/local/lib/python3.7/dist-packages (from requests->transformers) (1.24.3)\n",
            "Requirement already satisfied: idna<3,>=2.5 in /usr/local/lib/python3.7/dist-packages (from requests->transformers) (2.10)\n",
            "Requirement already satisfied: chardet<4,>=3.0.2 in /usr/local/lib/python3.7/dist-packages (from requests->transformers) (3.0.4)\n",
            "Installing collected packages: tokenizers, huggingface-hub, transformers\n",
            "Successfully installed huggingface-hub-0.10.1 tokenizers-0.13.1 transformers-4.24.0\n"
          ]
        }
      ],
      "source": [
        "### CONFIG (Run on linux backend)\n",
        "!pip install transformers\n",
        "# !pip install sentencepiece\n",
        "# !wget https://bakrianoo.ewr1.vultrobjects.com/aravec/full_grams_cbow_100_twitter.zip\n",
        "# !unzip \"full_grams_cbow_100_twitter.zip\""
      ]
    },
    {
      "cell_type": "code",
      "execution_count": null,
      "metadata": {
        "id": "ksm5ZoS2Vif7"
      },
      "outputs": [],
      "source": [
        "## Imports\n",
        "from transformers import pipeline\n",
        "import numpy as np \n",
        "import pandas as pd \n",
        "import gensim\n",
        "import gensim.downloader\n",
        "import re\n",
        "import time"
      ]
    },
    {
      "cell_type": "code",
      "execution_count": null,
      "metadata": {
        "id": "NE85EuawgsPB"
      },
      "outputs": [],
      "source": [
        "def clean(text):\n",
        "  # remove any punctuations in the text\n",
        "  punc = \"\"\"،.:!?؟!:.,''!\"#$%&'()*+, -./:;<=>?@[\\]^_`{|}~\"\"\"\n",
        "  for l in text:\n",
        "    if l in punc and l != \" \":\n",
        "      text = text.replace(l,\"\")\n",
        "  return text"
      ]
    },
    {
      "cell_type": "code",
      "execution_count": null,
      "metadata": {
        "id": "XyPVbvH65Mkb"
      },
      "outputs": [],
      "source": [
        "LOADED_MODELS = {}"
      ]
    },
    {
      "cell_type": "markdown",
      "metadata": {
        "id": "AFELrRGDsqku"
      },
      "source": [
        "#Augmenting through w2v (aug_w2v)"
      ]
    },
    {
      "cell_type": "code",
      "execution_count": null,
      "metadata": {
        "id": "vkif3T9Vlyds"
      },
      "outputs": [],
      "source": [
        "def load_w2v(ar_model_name):\n",
        "  global LOADED_MODELS\n",
        "  if not ar_model_name in LOADED_MODELS:\n",
        "    try:\n",
        "        ar_model = gensim.models.KeyedVectors.load_word2vec_format(ar_model_name,binary=True,unicode_errors='ignore')\n",
        "    except:\n",
        "        ar_model = gensim.models.Word2Vec.load(ar_model_name)\n",
        "    LOADED_MODELS[ar_model_name] = ar_model\n",
        "  return LOADED_MODELS[ar_model_name]"
      ]
    },
    {
      "cell_type": "code",
      "execution_count": null,
      "metadata": {
        "id": "TAN_meRlSMK8"
      },
      "outputs": [],
      "source": [
        "def w2v(ar_model,sentence):\n",
        "  l = []\n",
        "  augs = []\n",
        "  if len(sentence.split()) > 2:\n",
        "    for i,token in enumerate(sentence.split()):\n",
        "          model_to_use = ar_model\n",
        "          try:\n",
        "            word_vectors = model_to_use.wv\n",
        "            if token in word_vectors.key_to_index:\n",
        "              exist = True\n",
        "            else:\n",
        "              exist = False\n",
        "          except:\n",
        "            if token in model_to_use:\n",
        "              exist = True\n",
        "            else:\n",
        "              exist = False\n",
        "          if exist:\n",
        "            try:\n",
        "              most_similar = model_to_use.wv.most_similar( token, topn=5 )\n",
        "            except:\n",
        "              most_similar = model_to_use.most_similar( token, topn=5 )\n",
        "            for term, score in most_similar:\n",
        "                  if term != token:\n",
        "                      term = term.replace(\"_\",\" \")\n",
        "                      if not term.isalpha():\n",
        "                        s = sentence.split()\n",
        "                        s[i] = term\n",
        "                        aug = \" \".join(s)\n",
        "                        if not clean(aug) in augs:\n",
        "                          augs.append(clean(aug))\n",
        "                          aug = \" \".join(aug.split())\n",
        "                          l.append(aug)\n",
        "  return l"
      ]
    },
    {
      "cell_type": "code",
      "execution_count": null,
      "metadata": {
        "id": "wYB_yaGhmRg-"
      },
      "outputs": [],
      "source": [
        "# text here is a list of sentences or one string sentence\n",
        "def aug_w2v(ar_model,text, model_name):\n",
        "    print(f\"Loading {model_name}... 🚀\")\n",
        "    tic = time.perf_counter()\n",
        "    ar_model = load_w2v(ar_model)\n",
        "    toc = time.perf_counter()\n",
        "    print(f\"Loading {model_name} done ✅: \" + str(round(toc-tic, 3)) + \" seconds\")\n",
        "    print(f\"Augmenting with {model_name}... 🚀\")\n",
        "    tic = time.perf_counter()\n",
        "    if isinstance(text, str):\n",
        "      ret = w2v(ar_model, text)\n",
        "      toc = time.perf_counter()\n",
        "      print(f\"Augmenting with {model_name} done ✅: \" + str(round(toc-tic, 3)) + \" seconds\")\n",
        "      return ret\n",
        "    else:\n",
        "      all_sentences = []\n",
        "      for sentence in text:\n",
        "        sentence = sentence.strip()\n",
        "        all_sentences.append([sentence,w2v(ar_model,sentence)])\n",
        "      toc = time.perf_counter()\n",
        "      print(f\"Augmenting with {model_name} done ✅: \" + str(round(toc-tic, 3)) + \" seconds\")\n",
        "      return all_sentences"
      ]
    },
    {
      "cell_type": "markdown",
      "metadata": {
        "id": "NgnNkwSPs0b1"
      },
      "source": [
        "#Augmenting through fill mask (aug_bert)"
      ]
    },
    {
      "cell_type": "code",
      "execution_count": null,
      "metadata": {
        "id": "HpsKtOypnBoZ"
      },
      "outputs": [],
      "source": [
        "def load_bert(ar_model_name):\n",
        "  global LOADED_MODELS\n",
        "  if not ar_model_name in LOADED_MODELS:\n",
        "    ar_model = pipeline('fill-mask', model= ar_model_name)\n",
        "    LOADED_MODELS[ar_model_name] = ar_model\n",
        "  return LOADED_MODELS[ar_model_name]"
      ]
    },
    {
      "cell_type": "code",
      "execution_count": null,
      "metadata": {
        "id": "qRxmv0sY9Otl"
      },
      "outputs": [],
      "source": [
        "# Contextual word embeddings\n",
        "def bert(model, sentence):\n",
        "  l = []\n",
        "  augs = [sentence.split(),sentence.split(),sentence.split()]\n",
        "  # key:index , value: list of predicitions\n",
        "  aug_words = {}\n",
        "  if len(sentence.split()) > 2:\n",
        "    for n,token in enumerate(sentence.split()):\n",
        "            s = sentence.split()\n",
        "            try:\n",
        "              s[n] = \"<mask>\"\n",
        "              masked_text = \" \".join(s)\n",
        "              pred = model(masked_text , top_k = 3)\n",
        "            except:\n",
        "              s[n] = \"[MASK]\"\n",
        "              masked_text = \" \".join(s)\n",
        "              pred = model(masked_text , top_k = 3)\n",
        "            for i in pred:\n",
        "              if isinstance(i, dict):\n",
        "                output = i['token_str']\n",
        "                if not output == token:\n",
        "                  if not len(output) < 2 and clean(output) == output:\n",
        "                    output = output.replace(\"_\",\" \")\n",
        "                    ara = re.findall(r'[\\u0600-\\u06FF]+', output)\n",
        "                    if len(\"\".join(ara)) == len(output.replace(\" \",\"\")):\n",
        "                       if not n in aug_words:\n",
        "                           aug_words[n] = [output] \n",
        "                       else:\n",
        "                           aug_words[n].append(output)\n",
        "  for s in range(len(augs)):\n",
        "      for i in aug_words:\n",
        "         predicted = aug_words[i]\n",
        "         if not s + 1 > len(predicted):\n",
        "            augs[s][i] = predicted[s]\n",
        "         else:\n",
        "            augs[s][i] = predicted[len(predicted) - 1]\n",
        "\n",
        "  return augs"
      ]
    },
    {
      "cell_type": "code",
      "execution_count": null,
      "metadata": {
        "id": "yi4KTmGltCA1"
      },
      "outputs": [],
      "source": [
        "def multi_bert(model, sentence):\n",
        "    l = bert(model, sentence)\n",
        "    ret = []\n",
        "    for i in l:\n",
        "      ret += bert(model, i)\n",
        "    return ret"
      ]
    },
    {
      "cell_type": "code",
      "execution_count": null,
      "metadata": {
        "id": "wDXyFtpWno8S"
      },
      "outputs": [],
      "source": [
        "# text here is a list of sentences or one string sentence\n",
        "def aug_bert(model, text, model_name):\n",
        "    print(f\"Loading {model_name}... 🚀\")\n",
        "    tic = time.perf_counter()\n",
        "    model = load_bert(model)\n",
        "    toc = time.perf_counter()\n",
        "    print(f\"Loading {model_name} done ✅: \" + str(round(toc-tic, 3)) + \" seconds\")\n",
        "    print(f\"Augmenting with {model_name}... 🚀\")\n",
        "    tic = time.perf_counter()\n",
        "    if isinstance(text, str):\n",
        "      ret = bert(model, text)\n",
        "      toc = time.perf_counter()\n",
        "      print(f\"Augmenting with {model_name} done ✅: \" + str(round(toc-tic, 3)) + \" seconds\")\n",
        "      return ret\n",
        "    else:\n",
        "      all_sentences = []\n",
        "      for sentence in text:\n",
        "        sentence = sentence.strip()\n",
        "        all_sentences.append([sentence, bert(model,sentence)])\n",
        "      toc = time.perf_counter()\n",
        "      print(f\"Augmenting with {model_name} done ✅: \" + str(round(toc-tic, 3)) + \" seconds\")\n",
        "      return all_sentences"
      ]
    },
    {
      "cell_type": "markdown",
      "metadata": {
        "id": "352oEeb0ZD2_"
      },
      "source": [
        "# Excecution to list"
      ]
    },
    {
      "cell_type": "code",
      "execution_count": null,
      "metadata": {
        "id": "601Tq2YUZJAW"
      },
      "outputs": [],
      "source": [
        "def augment_to_list(sentences):\n",
        "  print(\"Beginning Augmentation... 🚀\\n\")\n",
        "  ret = []\n",
        "  # Augment sentences by each model\n",
        "  # ret += aug_bert(\"aubmindlab/bert-large-arabertv2\", sentences, \"Arabert\")\n",
        "  # ret += aug_bert(\"qarib/bert-base-qarib\", sentences, \"Qarib Bert\")\n",
        "  # ret += aug_bert(\"xlm-roberta-base\", sentences, \"XLM-Roberta\")\n",
        "  # ret += aug_bert(\"moussaKam/AraBART\", sentences, \"Arabart\")\n",
        "  # ret += aug_bert(\"CAMeL-Lab/bert-base-arabic-camelbert-mix\", sentences, \"Camel Bert\")\n",
        "  ret += aug_bert(\"alger-ia/dziribert\", sentences, \"Dziri Bert\")\n",
        "  # ret += aug_bert(\"asafaya/bert-large-arabic\", sentences, \"Bert Large Arabic\")\n",
        "  # ret += aug_bert(\"UBC-NLP/ARBERT\", sentences, \"Arbert\")\n",
        "  # ret += aug_bert(\"UBC-NLP/MARBERTv2\", sentences, \"Marbert\")\n",
        "  # ret += aug_bert(\"aubmindlab/araelectra-base-generator\", sentences, \"Araelectra\")\n",
        "  # aragpt2_sentences = aug_GPT(\"aubmindlab/aragpt2-medium\", sentences)\n",
        "  # ret += aug_w2v(\"full_grams_cbow_100_twitter.mdl\", sentences, \"Aravec\")\n",
        "  # ret += aug_w2v(\"cbow_100.bin\", 'glove-twitter-25', sentences, \"Mazajak (CBOW 100)\")\n",
        "  # back_translation_sentences = aug_back_translate(sentences)\n",
        "  return ret"
      ]
    },
    {
      "cell_type": "code",
      "execution_count": null,
      "metadata": {
        "colab": {
          "base_uri": "https://localhost:8080/"
        },
        "id": "10AaTv7BwIN7",
        "outputId": "8fc93ef4-64cb-4e8d-e433-9387bc34fa65"
      },
      "outputs": [
        {
          "output_type": "stream",
          "name": "stdout",
          "text": [
            "Mounted at /content/drive\n"
          ]
        }
      ],
      "source": [
        "from google.colab import drive\n",
        "drive.mount('/content/drive')\n",
        "project_dir = \"/content/drive/MyDrive/afrisent-semeval-2023\"\n",
        "lang_code = \"dz\""
      ]
    },
    {
      "cell_type": "code",
      "execution_count": null,
      "metadata": {
        "id": "ouICxMVtv7nH"
      },
      "outputs": [],
      "source": [
        "df_train = pd.read_csv(f\"{project_dir}/SubtaskA/train/{lang_code}_pro_train.csv\")"
      ]
    },
    {
      "cell_type": "code",
      "execution_count": null,
      "metadata": {
        "id": "TOVybmQDw_fZ"
      },
      "outputs": [],
      "source": [
        "sentences_pos = df_train[\"tweet\"][df_train[\"label\"] == 1].tolist()\n",
        "sentences_neu = df_train[\"tweet\"][df_train[\"label\"] == 0].tolist()\n",
        "sentences_neg = df_train[\"tweet\"][df_train[\"label\"] == -1].tolist()"
      ]
    },
    {
      "cell_type": "code",
      "execution_count": null,
      "metadata": {
        "id": "K0UxNYS_EieI"
      },
      "outputs": [],
      "source": [
        "label_pos = df_train[\"label\"][df_train[\"label\"] == 1].tolist()\n",
        "label_neu = df_train[\"label\"][df_train[\"label\"] == 0].tolist()\n",
        "label_neg = df_train[\"label\"][df_train[\"label\"] == -1].tolist()"
      ]
    },
    {
      "cell_type": "code",
      "execution_count": null,
      "metadata": {
        "colab": {
          "background_save": true
        },
        "id": "u2VoOITaaVjf"
      },
      "outputs": [],
      "source": [
        "l_pos = augment_to_list(sentences_pos)\n",
        "l_neu = augment_to_list(sentences_neu)\n",
        "l_neg = augment_to_list(sentences_neg)"
      ]
    },
    {
      "cell_type": "code",
      "execution_count": null,
      "metadata": {
        "colab": {
          "background_save": true
        },
        "id": "N7BRRdhVkIL4"
      },
      "outputs": [],
      "source": [
        "ls_pos = []\n",
        "for i in l_pos:\n",
        "  for s in i[1]:\n",
        "    ls_pos.append(s)\n",
        "ls_neu = []\n",
        "for i in l_neu:\n",
        "  for s in i[1]:\n",
        "    ls_neu.append(s)\n",
        "ls_neg = []\n",
        "for i in l_neg:\n",
        "  for s in i[1]:\n",
        "    ls_neu.append(s)\n"
      ]
    },
    {
      "cell_type": "code",
      "execution_count": null,
      "metadata": {
        "colab": {
          "background_save": true
        },
        "id": "Bpc7-JapNLB2"
      },
      "outputs": [],
      "source": [
        "df_train = df_train.append(pd.DataFrame({\"tweet\":ls_pos,\"label\":[1]*len(ls_pos)}),ignore_index= True).append(pd.DataFrame({\"tweet\":ls_neg,\"label\":[-1]*len(ls_neg)}),ignore_index= True).append(pd.DataFrame({\"tweet\":ls_neu,\"label\":[0]*len(ls_neu)}),ignore_index= True)"
      ]
    },
    {
      "cell_type": "code",
      "execution_count": null,
      "metadata": {
        "colab": {
          "background_save": true
        },
        "id": "pIJkpV8HI8PZ"
      },
      "outputs": [],
      "source": [
        "df_train[\"label\"] = df_train[\"label\"].apply(lambda x: int(x))"
      ]
    },
    {
      "cell_type": "code",
      "execution_count": null,
      "metadata": {
        "id": "GKt7ItXQJFcX"
      },
      "outputs": [],
      "source": [
        "df_train.to_csv(f\"{project_dir}/SubtaskA/train/{lang_code}_pro_train_aug.csv\", index=False)"
      ]
    }
  ],
  "metadata": {
    "colab": {
      "collapsed_sections": [
        "I5xe0ANFsYQ0",
        "AFELrRGDsqku",
        "NgnNkwSPs0b1"
      ],
      "provenance": []
    },
    "kernelspec": {
      "display_name": "Python 3",
      "name": "python3"
    },
    "language_info": {
      "name": "python"
    }
  },
  "nbformat": 4,
  "nbformat_minor": 0
}